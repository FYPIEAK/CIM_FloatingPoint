{
 "cells": [
  {
   "cell_type": "code",
   "execution_count": 1,
   "metadata": {},
   "outputs": [],
   "source": [
    "import torch\n",
    "import numpy as np\n",
    "import matplotlib.pyplot as plt\n",
    "import struct"
   ]
  },
  {
   "cell_type": "code",
   "execution_count": 2,
   "metadata": {},
   "outputs": [],
   "source": [
    "# generate a,b\n",
    "def generate_vectors():\n",
    "    a_uniform_distribution = np.random.uniform(low=-10_0000, high=10_0000, size=(1, 768)) #9.2E-41~3.38E38\n",
    "    b_uniform_distribution = np.random.choice([0, 1], size=(768, 1))\n",
    "\n",
    "    return a_uniform_distribution, b_uniform_distribution"
   ]
  },
  {
   "cell_type": "code",
   "execution_count": 3,
   "metadata": {},
   "outputs": [],
   "source": [
    "#base\n",
    "def multiply_vectors(a,b):\n",
    "    a_bfloat16 = a.astype(np.float16)\n",
    "    result = np.dot(a_bfloat16, b)\n",
    "    return result"
   ]
  },
  {
   "cell_type": "code",
   "execution_count": 4,
   "metadata": {},
   "outputs": [],
   "source": [
    "#向量中元素转化为二进制操作\n",
    "def Modify_tensor(tensor):\n",
    "    bf_list = tensor.detach().numpy().tolist() # 转成numpy变量再转换成list    \n",
    "    binary_array = []\n",
    "\n",
    "    for bf_nums in bf_list:\n",
    "        for bf_num in bf_nums:\n",
    "            float_bytes = struct.pack('>f', bf_num)\n",
    "            byte_array = ''.join(f'{byte:08b}' for byte in float_bytes)\n",
    "            binary_array.append(byte_array)\n",
    "    return binary_array"
   ]
  },
  {
   "cell_type": "code",
   "execution_count": 11,
   "metadata": {},
   "outputs": [],
   "source": [
    "#ReDCIM\n",
    "def ReDCIM_multiply(a,b):\n",
    "    a_tensor = torch.from_numpy(a)\n",
    "    b_tensor = torch.from_numpy(b)\n",
    "    a_fp32 = a_tensor.float()\n",
    "    a_modified = Modify_tensor(a_fp32)\n",
    "\n",
    "    ##预对齐\n",
    "    a_exp = []\n",
    "    for number in a_modified:\n",
    "        extracted_part = number[1:9]\n",
    "        a_exp.append(extracted_part)\n",
    "    a_exp_int = [int(binary, 2) for binary in a_exp]\n",
    "    a_exp_max = max(a_exp_int)\n",
    "    a_difference = [a_exp_max - value for value in a_exp_int]\n",
    "\n",
    "    a_mantissa = []\n",
    "    for number in a_modified:\n",
    "        if number[0] == '1':\n",
    "            inverted_part ='0' + ''.join('1' if bit == '0' else '0' for bit in number[9:15]) #取反码\n",
    "            complement = format(int(inverted_part, 2) + 1, '07b') #取补码\n",
    "            extracted_part = number[0] + complement #加符号位\n",
    "        else:\n",
    "            extracted_part = number[0] + '1' + number[9:14]\n",
    "        a_mantissa.append(extracted_part)\n",
    "\n",
    "    a_shifted_mantissa_values = []\n",
    "    for mant, diff in zip(a_mantissa, a_difference):\n",
    "        sign = int(mant[0], 2) #将mantissa 的首位取为符号位，并转化为int类型\n",
    "        if diff > 0:\n",
    "            shifted_value_binary = (sign * '1' if sign == 1 else '0') * diff + mant[:-diff] #str类型拼接\n",
    "        else:\n",
    "            shifted_value_binary = mant\n",
    "        a_shifted_mantissa_values.append(shifted_value_binary)\n",
    "\n",
    "    #尾数和weight 相乘\n",
    "    product_mantissa = [int(a, 2)  * b for a, b in zip(a_shifted_mantissa_values, b)]\n",
    "    sum_product_mantissa = sum(product_mantissa)\n",
    "    sum_product_mantissa_binary = format(sum_product_mantissa,'017b') #768个8bit数相加，最大17位\n",
    "    sign = 1 if sum_product_mantissa < 0 else 0\n",
    "\n",
    "    if sign == 1:\n",
    "        mantissa_all = ~int(sum_product_mantissa, 2) + 1\n",
    "    else:\n",
    "        mantissa_all = sum_product_mantissa_binary[1:]\n",
    "\n",
    "    combined_result = ((-1) ** int(sign)) * (2 ** (a_exp_max - 127)) * mantissa_all\n",
    "    return combined_result"
   ]
  },
  {
   "cell_type": "code",
   "execution_count": 12,
   "metadata": {},
   "outputs": [
    {
     "name": "stderr",
     "output_type": "stream",
     "text": [
      "C:\\Users\\YJQ\\AppData\\Local\\Temp\\ipykernel_7716\\3632802187.py:3: RuntimeWarning: overflow encountered in cast\n",
      "  a_bfloat16 = a.astype(np.float16)\n"
     ]
    },
    {
     "ename": "TypeError",
     "evalue": "unsupported format string passed to numpy.ndarray.__format__",
     "output_type": "error",
     "traceback": [
      "\u001b[1;31m---------------------------------------------------------------------------\u001b[0m",
      "\u001b[1;31mTypeError\u001b[0m                                 Traceback (most recent call last)",
      "Cell \u001b[1;32mIn[12], line 26\u001b[0m\n\u001b[0;32m     23\u001b[0m     ReDCIM_main_difference \u001b[38;5;241m=\u001b[39m compare_and_calculate_y(results_standard, results_ReDCIM)\n\u001b[0;32m     24\u001b[0m     \u001b[38;5;28;01mreturn\u001b[39;00m ReDCIM_main_difference\n\u001b[1;32m---> 26\u001b[0m ReDCIM_main_difference \u001b[38;5;241m=\u001b[39m \u001b[43mrun_calculations_with_actual_implementation\u001b[49m\u001b[43m(\u001b[49m\u001b[38;5;241;43m5000\u001b[39;49m\u001b[43m)\u001b[49m[\u001b[38;5;241m0\u001b[39m]\n\u001b[0;32m     28\u001b[0m \u001b[38;5;28mprint\u001b[39m(\u001b[38;5;124m\"\u001b[39m\u001b[38;5;124mReDCIM 平均误差 (normalized) \u001b[39m\u001b[38;5;124m\"\u001b[39m \u001b[38;5;241m+\u001b[39m \u001b[38;5;28mstr\u001b[39m(ReDCIM_main_difference))\n",
      "Cell \u001b[1;32mIn[12], line 18\u001b[0m, in \u001b[0;36mrun_calculations_with_actual_implementation\u001b[1;34m(n)\u001b[0m\n\u001b[0;32m     16\u001b[0m a, b \u001b[38;5;241m=\u001b[39m generate_vectors()\n\u001b[0;32m     17\u001b[0m result_standard \u001b[38;5;241m=\u001b[39m multiply_vectors(a, b)\n\u001b[1;32m---> 18\u001b[0m result_ReDCIM \u001b[38;5;241m=\u001b[39m \u001b[43mReDCIM_multiply\u001b[49m\u001b[43m(\u001b[49m\u001b[43ma\u001b[49m\u001b[43m,\u001b[49m\u001b[43m \u001b[49m\u001b[43mb\u001b[49m\u001b[43m)\u001b[49m\n\u001b[0;32m     20\u001b[0m results_standard\u001b[38;5;241m.\u001b[39mappend(result_standard)\n\u001b[0;32m     21\u001b[0m results_ReDCIM\u001b[38;5;241m.\u001b[39mappend(result_ReDCIM)\n",
      "Cell \u001b[1;32mIn[11], line 39\u001b[0m, in \u001b[0;36mReDCIM_multiply\u001b[1;34m(a, b)\u001b[0m\n\u001b[0;32m     37\u001b[0m product_mantissa \u001b[38;5;241m=\u001b[39m [\u001b[38;5;28mint\u001b[39m(a, \u001b[38;5;241m2\u001b[39m)  \u001b[38;5;241m*\u001b[39m b \u001b[38;5;28;01mfor\u001b[39;00m a, b \u001b[38;5;129;01min\u001b[39;00m \u001b[38;5;28mzip\u001b[39m(a_shifted_mantissa_values, b)]\n\u001b[0;32m     38\u001b[0m sum_product_mantissa \u001b[38;5;241m=\u001b[39m \u001b[38;5;28msum\u001b[39m(product_mantissa)\n\u001b[1;32m---> 39\u001b[0m sum_product_mantissa_binary \u001b[38;5;241m=\u001b[39m \u001b[38;5;28;43mformat\u001b[39;49m\u001b[43m(\u001b[49m\u001b[43msum_product_mantissa\u001b[49m\u001b[43m,\u001b[49m\u001b[38;5;124;43m'\u001b[39;49m\u001b[38;5;124;43m017b\u001b[39;49m\u001b[38;5;124;43m'\u001b[39;49m\u001b[43m)\u001b[49m \u001b[38;5;66;03m#768个8bit数相加，最大17位\u001b[39;00m\n\u001b[0;32m     40\u001b[0m sign \u001b[38;5;241m=\u001b[39m \u001b[38;5;241m1\u001b[39m \u001b[38;5;28;01mif\u001b[39;00m sum_product_mantissa \u001b[38;5;241m<\u001b[39m \u001b[38;5;241m0\u001b[39m \u001b[38;5;28;01melse\u001b[39;00m \u001b[38;5;241m0\u001b[39m\n\u001b[0;32m     42\u001b[0m \u001b[38;5;28;01mif\u001b[39;00m sign \u001b[38;5;241m==\u001b[39m \u001b[38;5;241m1\u001b[39m:\n",
      "\u001b[1;31mTypeError\u001b[0m: unsupported format string passed to numpy.ndarray.__format__"
     ]
    }
   ],
   "source": [
    "#compare\n",
    "def compare_and_calculate_y(results_a, results_b):\n",
    "    differences = []\n",
    "    for result_standard, ReDCIM in zip(results_a, results_b):\n",
    "        difference = abs(torch.abs(result_standard - ReDCIM)/result_standard)\n",
    "        differences.append(difference.item())\n",
    "\n",
    "    mean_difference = np.mean(differences)\n",
    "    return mean_difference\n",
    "\n",
    "def run_calculations_with_actual_implementation(n):\n",
    "    results_standard = []\n",
    "    results_ReDCIM = []\n",
    "    \n",
    "    for _ in range(500):\n",
    "        a, b = generate_vectors()\n",
    "        result_standard = multiply_vectors(a, b)\n",
    "        result_ReDCIM = ReDCIM_multiply(a, b)\n",
    "\n",
    "        results_standard.append(result_standard)\n",
    "        results_ReDCIM.append(result_ReDCIM)\n",
    "\n",
    "    ReDCIM_main_difference = compare_and_calculate_y(results_standard, results_ReDCIM)\n",
    "    return ReDCIM_main_difference\n",
    "\n",
    "ReDCIM_main_difference = run_calculations_with_actual_implementation(5000)[0]\n",
    "\n",
    "print(\"ReDCIM 平均误差 (normalized) \" + str(ReDCIM_main_difference))\n"
   ]
  }
 ],
 "metadata": {
  "kernelspec": {
   "display_name": "env_1",
   "language": "python",
   "name": "python3"
  },
  "language_info": {
   "codemirror_mode": {
    "name": "ipython",
    "version": 3
   },
   "file_extension": ".py",
   "mimetype": "text/x-python",
   "name": "python",
   "nbconvert_exporter": "python",
   "pygments_lexer": "ipython3",
   "version": "3.12.1"
  }
 },
 "nbformat": 4,
 "nbformat_minor": 2
}
