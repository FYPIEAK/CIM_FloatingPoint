{
 "cells": [
  {
   "cell_type": "code",
   "execution_count": 241,
   "metadata": {},
   "outputs": [],
   "source": [
    "import torch\n",
    "import numpy as np\n",
    "import struct"
   ]
  },
  {
   "cell_type": "code",
   "execution_count": 242,
   "metadata": {},
   "outputs": [],
   "source": [
    "\n",
    "# generate a,b\n",
    "def generate_vectors(n):\n",
    "    a_uniform_distribution = np.random.uniform(low=-10000, high=10000, size=(1, n)) \n",
    "    b_uniform_distribution = np.random.choice([0, 1], size=(n, 1))\n",
    "\n",
    "    return a_uniform_distribution, b_uniform_distribution"
   ]
  },
  {
   "cell_type": "code",
   "execution_count": 243,
   "metadata": {},
   "outputs": [],
   "source": [
    "#base\n",
    "def multiply_vectors(a,b):\n",
    "    a_bfloat16 = a.astype(np.float16)\n",
    "    result = np.dot(a_bfloat16, b)\n",
    "    return result"
   ]
  },
  {
   "cell_type": "code",
   "execution_count": 244,
   "metadata": {},
   "outputs": [],
   "source": [
    "#向量中元素转化为二进制操作\n",
    "def Modify_tensor(tensor):\n",
    "    bf_list = tensor.detach().numpy().tolist() # 转成numpy变量再转换成list    \n",
    "    binary_array = []\n",
    "\n",
    "    for bf_nums in bf_list:\n",
    "        for bf_num in bf_nums:\n",
    "            float_bytes = struct.pack('>f', bf_num)\n",
    "            byte_array = ''.join(f'{byte:08b}' for byte in float_bytes)\n",
    "            binary_array.append(byte_array)\n",
    "    return binary_array"
   ]
  },
  {
   "cell_type": "code",
   "execution_count": 245,
   "metadata": {},
   "outputs": [],
   "source": [
    "#ReDCIM\n",
    "def ReDCIM_multiply(a,b):\n",
    "    a_tensor = torch.from_numpy(a)\n",
    "    b_tensor = torch.from_numpy(b)\n",
    "    a_fp32 = a_tensor.float()\n",
    "    a_modified = Modify_tensor(a_fp32)\n",
    "\n",
    "    ##预对齐\n",
    "    a_exp = []\n",
    "    for number in a_modified:\n",
    "        extracted_part = number[1:9]\n",
    "        a_exp.append(extracted_part)\n",
    "    a_exp_int = [int(binary, 2) for binary in a_exp]\n",
    "    a_exp_max = max(a_exp_int)\n",
    "    a_difference = [a_exp_max - value for value in a_exp_int]\n",
    "    #print(a_exp)\n",
    "\n",
    "    a_mantissa = []\n",
    "    for number in a_modified:\n",
    "        a_mantissa.append(int('1' + number[9:15], 2) if number[0] == '0' else -int('1' + number[9:15], 2))\n",
    "    #print(a_mantissa)\n",
    "\n",
    "    a_shifted_mantissa_values = []\n",
    "    for mant, diff in zip(a_mantissa, a_difference):\n",
    "        a_shifted_mantissa_values.append(mant >> diff)\n",
    "    #print(a_shifted_mantissa_values)\n",
    "    product_mantissa_int = [a * b for a, b in zip(a_shifted_mantissa_values, b_tensor)]\n",
    "    sum_product_mantissa = sum(product_mantissa_int)\n",
    "\n",
    "    left_shift = a_exp_max - 127 - 6\n",
    "\n",
    "    combined_result = sum_product_mantissa << left_shift if left_shift > 0 else sum_product_mantissa >> -left_shift\n",
    "    return combined_result"
   ]
  },
  {
   "cell_type": "code",
   "execution_count": 246,
   "metadata": {},
   "outputs": [
    {
     "name": "stdout",
     "output_type": "stream",
     "text": [
      "[[-2211.18543867  1369.69665098  2884.4050814   6071.13187878]]\n",
      "[[0]\n",
      " [0]\n",
      " [0]\n",
      " [1]]\n",
      "Result standard:\n",
      " [[6072.]]\n",
      "Result ReDCIM:\n",
      " tensor([6016], dtype=torch.int32)\n"
     ]
    }
   ],
   "source": [
    "#vectors\n",
    "n = 4\n",
    "a,b = generate_vectors(n)\n",
    "print(a)\n",
    "print(b)\n",
    "\n",
    "result_standard = multiply_vectors(a, b)\n",
    "print(\"Result standard:\\n\", result_standard)\n",
    "\n",
    "result_ReDCIM = ReDCIM_multiply(a, b)\n",
    "print(\"Result ReDCIM:\\n\", result_ReDCIM)"
   ]
  }
 ],
 "metadata": {
  "kernelspec": {
   "display_name": "env_1",
   "language": "python",
   "name": "python3"
  },
  "language_info": {
   "codemirror_mode": {
    "name": "ipython",
    "version": 3
   },
   "file_extension": ".py",
   "mimetype": "text/x-python",
   "name": "python",
   "nbconvert_exporter": "python",
   "pygments_lexer": "ipython3",
   "version": "3.12.1"
  }
 },
 "nbformat": 4,
 "nbformat_minor": 2
}
