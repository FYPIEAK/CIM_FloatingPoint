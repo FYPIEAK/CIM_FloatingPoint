{
 "cells": [
  {
   "cell_type": "code",
   "execution_count": 1251,
   "metadata": {},
   "outputs": [],
   "source": [
    "import torch\n",
    "import numpy as np\n",
    "import matplotlib.pyplot as plt\n",
    "import struct"
   ]
  },
  {
   "cell_type": "code",
   "execution_count": 1252,
   "metadata": {},
   "outputs": [],
   "source": [
    "\n",
    "# generate a,b\n",
    "def generate_vectors(n):\n",
    "    a_uniform_distribution = np.random.uniform(low=-1_0000, high=1_0000, size=(1, n)) \n",
    "    b_uniform_distribution = np.random.choice([0, 1], size=(n, 1))\n",
    "\n",
    "    return a_uniform_distribution, b_uniform_distribution"
   ]
  },
  {
   "cell_type": "code",
   "execution_count": 1253,
   "metadata": {},
   "outputs": [],
   "source": [
    "#base\n",
    "def multiply_vectors(a,b):\n",
    "    a_bfloat16 = a.astype(np.float16)\n",
    "    result = np.dot(a_bfloat16, b)\n",
    "    return result"
   ]
  },
  {
   "cell_type": "code",
   "execution_count": 1254,
   "metadata": {},
   "outputs": [],
   "source": [
    "#向量中元素转化为二进制操作\n",
    "def Modify_tensor(tensor):\n",
    "    bf_list = tensor.detach().numpy().tolist() # 转成numpy变量再转换成list    \n",
    "    binary_array = []\n",
    "\n",
    "    for bf_nums in bf_list:\n",
    "        for bf_num in bf_nums:\n",
    "            float_bytes = struct.pack('>f', bf_num)\n",
    "            byte_array = ''.join(f'{byte:08b}' for byte in float_bytes)\n",
    "            binary_array.append(byte_array)\n",
    "    return binary_array\n",
    "\n",
    "#将8位补码二进制字符串转换为整数\n",
    "def twos_complement_to_int(binary_str):\n",
    "    if binary_str == \"\":\n",
    "        return 0\n",
    "\n",
    "    if binary_str[0] == '1':\n",
    "        inverted = ''.join('1' if bit == '0' else '0' for bit in binary_str)  \n",
    "        int_value = int(inverted, 2) + 1  \n",
    "        return -int_value  \n",
    "    else:\n",
    "        return int(binary_str, 2)  "
   ]
  },
  {
   "cell_type": "code",
   "execution_count": 1255,
   "metadata": {},
   "outputs": [],
   "source": [
    "#ReDCIM\n",
    "def ReDCIM_multiply(a,b):\n",
    "    a_tensor = torch.from_numpy(a)\n",
    "    b_tensor = torch.from_numpy(b)\n",
    "    a_fp32 = a_tensor.float()\n",
    "    a_modified = Modify_tensor(a_fp32)\n",
    "\n",
    "    ##预对齐\n",
    "    a_exp = []\n",
    "    for number in a_modified:\n",
    "        extracted_part = number[1:9]\n",
    "        a_exp.append(extracted_part)\n",
    "    a_exp_int = [int(binary, 2) for binary in a_exp]\n",
    "    a_exp_max = max(a_exp_int)\n",
    "    a_difference = [a_exp_max - value for value in a_exp_int]\n",
    "    print(a_exp)\n",
    "\n",
    "    a_mantissa = []\n",
    "    for number in a_modified:\n",
    "        if number[0] == '1':\n",
    "            inverted_part ='0' + ''.join('1' if bit == '0' else '0' for bit in number[9:15]) #取反码\n",
    "            complement = format(int(inverted_part, 2) + 1, '07b') #取补码\n",
    "            extracted_part = number[0] + complement #加符号位\n",
    "        else:\n",
    "            extracted_part = number[0] + '1' + number[9:14]\n",
    "        a_mantissa.append(extracted_part)\n",
    "    print(a_mantissa)\n",
    "\n",
    "    a_shifted_mantissa_values = []\n",
    "    for mant, diff in zip(a_mantissa, a_difference):\n",
    "        sign = int(mant[0], 2) #将mantissa 的首位取为符号位，并转化为int类型\n",
    "        if diff > 0:\n",
    "            shifted_value_binary = (sign * '1' if sign == 1 else '0') * diff + mant[:-diff] #str类型拼接\n",
    "        else:\n",
    "            shifted_value_binary = mant\n",
    "        a_shifted_mantissa_values.append(shifted_value_binary)\n",
    "    print(a_shifted_mantissa_values)\n",
    "\n",
    "    product_mantissa = [a * b for a, b in zip(a_shifted_mantissa_values, b_tensor)]\n",
    "    product_mantissa_int= [twos_complement_to_int(product) for product in product_mantissa]\n",
    "    sum_product_mantissa = sum(product_mantissa_int)\n",
    "    sign = 1 if sum_product_mantissa < 0 else 0\n",
    "    \n",
    "    combined_result = ((-1) ** sign) * (2 ** (a_exp_max - 127)) * sum_product_mantissa\n",
    "    return combined_result"
   ]
  },
  {
   "cell_type": "code",
   "execution_count": 1256,
   "metadata": {},
   "outputs": [
    {
     "name": "stdout",
     "output_type": "stream",
     "text": [
      "[[ -421.70414441 -1763.61997011 -5167.28734286 -5880.07533226]]\n",
      "[[0]\n",
      " [0]\n",
      " [0]\n",
      " [0]]\n",
      "Result standard:\n",
      " [[0.]]\n",
      "['10000111', '10001001', '10001011', '10001011']\n",
      "['10010111', '10010010', '10110000', '10100101']\n",
      "['11111001', '11100100', '10110000', '10100101']\n",
      "Result ReDCIM:\n",
      " 0\n"
     ]
    }
   ],
   "source": [
    "#vectors\n",
    "n = 4\n",
    "a,b = generate_vectors(n)\n",
    "print(a)\n",
    "print(b)\n",
    "\n",
    "result_standard = multiply_vectors(a, b)\n",
    "print(\"Result standard:\\n\", result_standard)\n",
    "\n",
    "result_ReDCIM = ReDCIM_multiply(a, b)\n",
    "print(\"Result ReDCIM:\\n\", result_ReDCIM)"
   ]
  }
 ],
 "metadata": {
  "kernelspec": {
   "display_name": "env_1",
   "language": "python",
   "name": "python3"
  },
  "language_info": {
   "codemirror_mode": {
    "name": "ipython",
    "version": 3
   },
   "file_extension": ".py",
   "mimetype": "text/x-python",
   "name": "python",
   "nbconvert_exporter": "python",
   "pygments_lexer": "ipython3",
   "version": "3.12.1"
  }
 },
 "nbformat": 4,
 "nbformat_minor": 2
}
